{
 "cells": [
  {
   "cell_type": "code",
   "execution_count": 1,
   "metadata": {},
   "outputs": [],
   "source": [
    "## Import the relevant packages required\n",
    "import re\n",
    "import requests\n",
    "import time\n",
    "from requests.exceptions import RequestException\n",
    "from bs4 import BeautifulSoup"
   ]
  },
  {
   "cell_type": "code",
   "execution_count": 2,
   "metadata": {},
   "outputs": [
    {
     "name": "stdout",
     "output_type": "stream",
     "text": [
      "<Response [403]>\n"
     ]
    }
   ],
   "source": [
    "## Define your URL and user_agent\n",
    "url = 'http://www.marketindex.com.au/rebalance-announcements'\n",
    "\n",
    "response = requests.get(url)\n",
    "\n",
    "## Returns a 403 error - this means the request was received but blocked.\n",
    "print(response)"
   ]
  },
  {
   "cell_type": "code",
   "execution_count": 4,
   "metadata": {},
   "outputs": [
    {
     "name": "stdout",
     "output_type": "stream",
     "text": [
      "<Response [200]>\n"
     ]
    }
   ],
   "source": [
    "## Define your URL and user_agent\n",
    "url = 'https://www.marketindex.com.au/asx200/announcements'\n",
    "\n",
    "## Include a user_agent for authentication.\n",
    "user_agent = 'Mozilla/5.0 (Macintosh; Intel Mac OS X 10_9_3) AppleWebKit/537.36 (KHTML, like Gecko) Chrome/35.0.1916.47 Safari/537.36'\n",
    "\n",
    "response = requests.get(url,headers={'User-Agent': user_agent})\n",
    "\n",
    "## Returns 200 - success! \n",
    "print(response)"
   ]
  },
  {
   "cell_type": "code",
   "execution_count": null,
   "metadata": {},
   "outputs": [],
   "source": [
    "## Parse the response with BS.\n",
    "soup = BeautifulSoup(response.text,'html')\n",
    "\n",
    "## Create an empty list to store download links\n",
    "download_list = list()\n",
    "\n",
    "## Find elements in the page that have the <a> tag (commonly used for links)\n",
    "for each in soup.findAll('a'):\n",
    "    print(each)"
   ]
  },
  {
   "cell_type": "code",
   "execution_count": null,
   "metadata": {},
   "outputs": [],
   "source": [
    "## We only want the PDF links, so we include a parameter that the HTML link includes a '.pdf'. \n",
    "for each in soup.findAll('a'):\n",
    "    if '.pdf' in each['href']:\n",
    "        print(each['href'])"
   ]
  },
  {
   "cell_type": "code",
   "execution_count": null,
   "metadata": {},
   "outputs": [],
   "source": [
    "## Need to include the full link to download, so we append the original website as well and store it in downloads.\n",
    "\n",
    "for each in soup.findAll('a'):\n",
    "    if '.pdf' in each['href']:\n",
    "        ## I viewed the link to make sure the original appendice is correct. \n",
    "        download_url = 'http://www.marketindex.com.au/'+ each['href']\n",
    "        download_list += [download_url]\n",
    "\n",
    "## We have a list of PDF links to download now\n",
    "print(download_list)"
   ]
  },
  {
   "cell_type": "code",
   "execution_count": null,
   "metadata": {},
   "outputs": [],
   "source": [
    "## Loop through the list to download files\n",
    "for each in download_list:\n",
    "    r = requests.get(each,headers={'User-Agent': user_agent}, stream = True)\n",
    "    \n",
    "    ## Split the name based on '/' and name the files based on the URL link\n",
    "    with open(each.split(\"/\")[-1],\"wb\") as pdf: \n",
    "        for chunk in r.iter_content(): \n",
    "            # writing one chunk at a time to pdf file \n",
    "            if chunk: \n",
    "                ## Save the file in the same location as this script\n",
    "                pdf.write(chunk)"
   ]
  },
  {
   "cell_type": "markdown",
   "metadata": {},
   "source": [
    "Turning this into a class we can use on all websites."
   ]
  },
  {
   "cell_type": "code",
   "execution_count": null,
   "metadata": {},
   "outputs": [],
   "source": [
    "## Import the relevant packages required\n",
    "import re\n",
    "import requests\n",
    "import time\n",
    "from requests.exceptions import RequestException\n",
    "from bs4 import BeautifulSoup\n",
    "\n",
    "class pdf_tool:\n",
    "    def __init__(self,url):\n",
    "        self.url = url\n",
    "        self.user_agent = 'Mozilla/5.0 (Macintosh; Intel Mac OS X 10_9_3) AppleWebKit/537.36 (KHTML, like Gecko) Chrome/35.0.1916.47 Safari/537.36'\n",
    "        \n",
    "        return None\n",
    "\n",
    "    def checkurl(self):\n",
    "        try:\n",
    "            self.response = requests.get(self.url,headers={'User-Agent': self.user_agent})\n",
    "            if '200' in str(self.response):\n",
    "                return (\"Successful connection.\")\n",
    "            else:\n",
    "                return (\"An error occurred in connecting.\")\n",
    "        except:\n",
    "            return (\"Invalid URL and/or request denied.\")\n",
    "\n",
    "    def find_link(self):\n",
    "        soup = BeautifulSoup(self.response.text,'html')\n",
    "        self.download_list = []\n",
    "        for each in soup.findAll('a'):\n",
    "            try:\n",
    "                if '.pdf' in each['href']:\n",
    "                    download_url = '/'.join(self.url.split('/')[0:3])+ each['href']\n",
    "                    self.download_list += [download_url]\n",
    "            except:\n",
    "                return(\"There were no PDF links on this page.\")\n",
    "        if self.download_list == []:\n",
    "            return (\"There were no PDFs located on this page.\")\n",
    "        else:\n",
    "            return (\"List retrieved, call show_list() to view.\")\n",
    "    \n",
    "    def show_list(self):\n",
    "        if self.download_list == \"\" or self.download_list == []:\n",
    "            return (\"The list is empty.\")\n",
    "        else:\n",
    "            return(self.download_list)\n",
    "    \n",
    "    def download_files(self):\n",
    "        i = 0\n",
    "        if self.download_list == \"\" or self.download_list == []:\n",
    "            return (\"The list is empty.\")\n",
    "        for each in self.download_list:\n",
    "            r = requests.get(each,headers={'User-Agent': self.user_agent}, stream = True)\n",
    "            i =+ 1\n",
    "            \n",
    "            ## Split the name based on '/' and name the files based on the URL link\n",
    "            with open(each.split(\"/\")[-1],\"wb\") as pdf: \n",
    "                for chunk in r.iter_content(chunk_size=1024): \n",
    "                    # writing one chunk at a time to pdf file \n",
    "                    if chunk: \n",
    "                        ## Save the file in the same location as this script\n",
    "                        pdf.write(chunk)\n",
    "            time.sleep(1)\n",
    "        return(str(i) + \" PDFs downloaded.\")\n",
    "    \n",
    "    ## fastboi function to go fast boi\n",
    "    def fastboi(self):\n",
    "        self.checkurl()\n",
    "        self.find_link()\n",
    "        self.download_files()"
   ]
  },
  {
   "cell_type": "code",
   "execution_count": null,
   "metadata": {
    "scrolled": true
   },
   "outputs": [],
   "source": [
    "## Success!\n",
    "\n",
    "a = pdf_tool('http://www.marketindex.com.au/rebalance-announcements')\n",
    "a.checkurl()\n",
    "a.find_link()\n",
    "a.show_list()\n",
    "a.download_files()"
   ]
  },
  {
   "cell_type": "code",
   "execution_count": null,
   "metadata": {},
   "outputs": [],
   "source": [
    "a = pdf_tool('http://www.marketindex.com.au/rebalance-announcements')\n",
    "a.fastboi()"
   ]
  },
  {
   "cell_type": "code",
   "execution_count": null,
   "metadata": {},
   "outputs": [],
   "source": []
  }
 ],
 "metadata": {
  "kernelspec": {
   "display_name": "Python 3",
   "language": "python",
   "name": "python3"
  },
  "language_info": {
   "codemirror_mode": {
    "name": "ipython",
    "version": 3
   },
   "file_extension": ".py",
   "mimetype": "text/x-python",
   "name": "python",
   "nbconvert_exporter": "python",
   "pygments_lexer": "ipython3",
   "version": "3.7.6"
  }
 },
 "nbformat": 4,
 "nbformat_minor": 4
}
