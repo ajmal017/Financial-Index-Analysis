{
 "cells": [
  {
   "cell_type": "code",
   "execution_count": null,
   "metadata": {},
   "outputs": [],
   "source": [
    "pip install praw\n",
    "pip install psaw"
   ]
  },
  {
   "cell_type": "code",
   "execution_count": null,
   "metadata": {},
   "outputs": [],
   "source": [
    "import praw\n",
    "import psaw\n",
    "import pandas as pd\n",
    "import datetime\n",
    "import time\n",
    "from psaw import PushshiftAPI"
   ]
  },
  {
   "cell_type": "code",
   "execution_count": null,
   "metadata": {},
   "outputs": [],
   "source": [
    "r = praw.Reddit(client_id='<myAPI>',\n",
    "                     client_secret='<mySecret>',\n",
    "                     user_agent='<my useragent>')\n",
    "\n",
    "api = PushshiftAPI()"
   ]
  },
  {
   "cell_type": "code",
   "execution_count": null,
   "metadata": {},
   "outputs": [],
   "source": [
    "start_epoch=int(datetime(2019, 10, 10).timestamp())\n",
    "\n",
    "a = list(api.search_submissions(after=start_epoch,\n",
    "                            subreddit='AusFinance',\n",
    "                            filter=['created','id', 'title', 'subreddit'],\n",
    "                            limit=100000))\n",
    "\n",
    "df = DataFrame(a)"
   ]
  },
  {
   "cell_type": "code",
   "execution_count": null,
   "metadata": {},
   "outputs": [],
   "source": [
    "df1 = df[['created_utc','id','subreddit','title']]\n",
    "\n",
    "for i in range(0,len(df1)):\n",
    "    df1.at[i,'Date'] = datetime.utcfromtimestamp(df1.at[i,'created_utc']).strftime('%Y-%m-%d %H:%M:%S')"
   ]
  },
  {
   "cell_type": "code",
   "execution_count": null,
   "metadata": {},
   "outputs": [],
   "source": [
    "for i in range(0,len(df1)):\n",
    "    for each in ['corona','virus','covid']:\n",
    "        if each in str(df1.at[i,'title']).lower():\n",
    "            df1.at[i,'mentions'] = 1\n",
    "    \n",
    "    for each in ['ASX','asx','s&p','SPY','spy','index']:\n",
    "        if each in str(df1.at[i,'title']).lower():\n",
    "            df1.at[i,'Index'] = 1\n",
    "            \n",
    "    for each in ['van','guard','ETF','etf','eta']:\n",
    "        if each in str(df1.at[i,'title']).lower():\n",
    "            df1.at[i,'ETFs'] = 1\n",
    "            \n",
    "    for each in ['china','HINA']:\n",
    "        if each in str(df1.at[i,'title']).lower():\n",
    "            df1.at[i,'China'] = 1"
   ]
  },
  {
   "cell_type": "code",
   "execution_count": null,
   "metadata": {},
   "outputs": [],
   "source": [
    "df1.to_excel(\"cleaned AusFinance data.xlsx\")"
   ]
  },
  {
   "cell_type": "code",
   "execution_count": null,
   "metadata": {},
   "outputs": [],
   "source": [
    "print(df1)"
   ]
  },
  {
   "cell_type": "code",
   "execution_count": null,
   "metadata": {},
   "outputs": [],
   "source": []
  }
 ],
 "metadata": {
  "kernelspec": {
   "display_name": "Python 3",
   "language": "python",
   "name": "python3"
  },
  "language_info": {
   "codemirror_mode": {
    "name": "ipython",
    "version": 3
   },
   "file_extension": ".py",
   "mimetype": "text/x-python",
   "name": "python",
   "nbconvert_exporter": "python",
   "pygments_lexer": "ipython3",
   "version": "3.7.6"
  }
 },
 "nbformat": 4,
 "nbformat_minor": 4
}
