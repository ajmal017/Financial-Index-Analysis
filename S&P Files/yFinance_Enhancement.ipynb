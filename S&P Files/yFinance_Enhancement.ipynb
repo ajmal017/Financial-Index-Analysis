{
 "cells": [
  {
   "cell_type": "code",
   "execution_count": null,
   "metadata": {
    "scrolled": false
   },
   "outputs": [],
   "source": [
    "## Import the yfinance API\n",
    "\n",
    "import yfinance as yf\n",
    "import pandas as pd\n",
    "import datetime as time\n",
    "from random import random\n",
    "tickers = pd.read_excel(\"ASX200 Tickers 2020 copy.xlsx\")\n",
    "\n",
    "## Add additional columns from the yfinance API\n",
    "\n",
    "tickers['zip'] = \"\"\n",
    "tickers['sector'] = \"\"\n",
    "tickers['address 2'] = \"\"\n",
    "tickers['shortName'] = \"\"\n",
    "tickers['longName'] = \"\"\n",
    "tickers['exchange'] = \"\"\n",
    "tickers['enterpriseToEbitda'] = \"\"\n",
    "tickers['morningStarRiskRating'] = \"\"\n",
    "tickers['priceToBook'] = \"\"\n",
    "tickers['morningStarOverallRating'] = \"\"\n",
    "tickers['fiveYearAverageReturn'] = \"\"\n",
    "tickers['imported'] = \"\"\n",
    "\n",
    "accepted_tickers = []\n",
    "rejected_tickers = []\n",
    "\n",
    "all_tickers = tickers['Code'].tolist()\n",
    "\n",
    "while len(all_tickers) != 0:\n",
    "    for i in range(0,len(tickers)):\n",
    "        ran = round(random()*len(tickers['Code'].tolist()))\n",
    "        if tickers['imported'].loc[ran] != \"Done\":\n",
    "            try:\n",
    "                random_stock = yf.Ticker(all_tickers[i] + '.AX')\n",
    "                # get stock info\n",
    "                ticker_info = random_stock.get_info()\n",
    "                tickers['zip'].loc[ran] = ticker_info['zip']\n",
    "                tickers['sector'].loc[ran] = ticker_info['sector']\n",
    "                tickers['address 2'].loc[ran] = ticker_info['address 2']\n",
    "                tickers['shortName'].loc[ran] = ticker_info['shortName']\n",
    "                tickers['longName'].loc[ran] = ticker_info['longName']\n",
    "                tickers['exchange'].loc[ran] = ticker_info['exchange']\n",
    "                tickers['enterpriseToEbitda'].loc[ran] = ticker_info['enterpriseToEbitda']\n",
    "                tickers['morningStarRiskRating'].loc[ran] = ticker_info['morningStarRiskRating']\n",
    "                tickers['priceToBook'].loc[ran] = ticker_info['priceToBook']\n",
    "                tickers['morningStarOverallRating'].loc[ran] = ticker_info['morningStarOverallRating']\n",
    "                tickers['fiveYearAverageReturn'].loc[ran] = ticker_info['fiveYearAverageReturn']\n",
    "                tickers['imported'].loc[ran] = \"Done\"\n",
    "                print(\"Passed\")\n",
    "            except:\n",
    "                print(\"Failed\")\n",
    "\n",
    "# get historical market data\n",
    "#AXJO_hist = AXJO.history(period=\"3y\",interval=\"1d\")\n",
    "#DJI_hist = DJI.history(period=\"20y\",interval=\"1d\")\n",
    "#SPY_hist = SPY.history(period=\"20y\",interval=\"1d\")\n",
    "#BBOZ_hist = BBOZ.history(period=\"3y\",interval=\"1d\")\n",
    "\n",
    "#print(BBOZ_hist)\n",
    "## zip, sector, address1,shortName,longName,exchange,enterpriseToEbitda, morningStarRiskRating,priceToBook, morningStarOverallRating,fiveYearAverageReturn"
   ]
  },
  {
   "cell_type": "code",
   "execution_count": null,
   "metadata": {},
   "outputs": [],
   "source": [
    "## Import the yfinance API\n",
    "\n",
    "import yfinance as yf\n",
    "import pandas as pd\n",
    "import datetime as time\n",
    "from random import random\n",
    "tickers = pd.read_excel(\"ASX200 Tickers 2020 copy.xlsx\")\n",
    "\n",
    "## Add additional columns from the yfinance API\n",
    "\n",
    "tickers['zip'] = \"\"\n",
    "tickers['sector'] = \"\"\n",
    "tickers['address 2'] = \"\"\n",
    "tickers['shortName'] = \"\"\n",
    "tickers['longName'] = \"\"\n",
    "tickers['exchange'] = \"\"\n",
    "tickers['enterpriseToEbitda'] = \"\"\n",
    "tickers['morningStarRiskRating'] = \"\"\n",
    "tickers['priceToBook'] = \"\"\n",
    "tickers['morningStarOverallRating'] = \"\"\n",
    "tickers['fiveYearAverageReturn'] = \"\"\n",
    "tickers['imported'] = \"\"\n",
    "\n",
    "accepted_tickers = []\n",
    "rejected_tickers = []\n",
    "\n",
    "all_tickers = tickers['Code'].tolist()\n",
    "print(all_tickers)\n",
    "\n"
   ]
  },
  {
   "cell_type": "code",
   "execution_count": null,
   "metadata": {},
   "outputs": [],
   "source": [
    "tickers[['asd','asd1']] = 0\n",
    "print(tickers)"
   ]
  },
  {
   "cell_type": "code",
   "execution_count": null,
   "metadata": {},
   "outputs": [],
   "source": [
    "from random import random\n",
    "\n",
    "listers = ['CBA','ANZ','NAB','ABP','APT']\n",
    "for each in listers:\n",
    "    AXJO = yf.Ticker(each + \".AX\")\n",
    "    text = AXJO.info\n",
    "    sleep(random()*10)\n",
    "    print(text)\n",
    "\n"
   ]
  },
  {
   "cell_type": "code",
   "execution_count": null,
   "metadata": {},
   "outputs": [],
   "source": [
    "import datetime as time"
   ]
  },
  {
   "cell_type": "code",
   "execution_count": null,
   "metadata": {},
   "outputs": [],
   "source": [
    "listers = ['ABP']#, 'ABC', 'APT', 'AGL', 'ALQ', 'ALU', 'AWC', 'AMC', 'AMP', 'ANN', 'APE', 'APA', 'APX', 'ARB', 'ALL', 'ASX', 'ALX', 'AZJ']\n",
    "for each in listers:\n",
    "    AXJO = yf.Ticker('ABP' + '.AX')\n",
    "    print(AXJO.info)\n",
    "\n",
    "    "
   ]
  },
  {
   "cell_type": "code",
   "execution_count": null,
   "metadata": {},
   "outputs": [],
   "source": [
    "ticks = yf.Ticker(\"CBA\" + \".AX\")\n",
    "info = ticks.info\n",
    "for each in info:\n",
    "    print(info[each])"
   ]
  },
  {
   "cell_type": "code",
   "execution_count": null,
   "metadata": {},
   "outputs": [],
   "source": [
    "for tickers['Code'].tolist())"
   ]
  },
  {
   "cell_type": "code",
   "execution_count": null,
   "metadata": {},
   "outputs": [],
   "source": [
    "pip install -e git+git://github.com/vonHacht/yfinance.git@master#egg=yfinance"
   ]
  },
  {
   "cell_type": "code",
   "execution_count": null,
   "metadata": {},
   "outputs": [],
   "source": [
    "from random import random\n",
    "\n",
    "listers = ['CBA','ANZ','NAB','ABP','APT']\n",
    "for each in listers:\n",
    "    AXJO = yf.Ticker(each + \".AX\")\n",
    "    text = AXJO.info\n",
    "    print(text)"
   ]
  },
  {
   "cell_type": "code",
   "execution_count": null,
   "metadata": {},
   "outputs": [],
   "source": [
    "AXJO = yf.Ticker(\"CBA\" + \".AX\")\n",
    "AXJO.info['zip']\n"
   ]
  },
  {
   "cell_type": "code",
   "execution_count": null,
   "metadata": {},
   "outputs": [],
   "source": [
    "while '' in tickers['imported'].tolist():\n",
    "    for i in range(0,len(tickers['imported'].tolist())):\n",
    "        if tickers['imported'].loc[i,]:\n",
    "            tickers['imported'][i,] = 4"
   ]
  },
  {
   "cell_type": "code",
   "execution_count": null,
   "metadata": {},
   "outputs": [],
   "source": [
    "i = 5\n",
    "\n",
    "tickers['imported'][i,] = 4\n",
    "\n",
    "print(tickers['imported'].loc[i,])"
   ]
  },
  {
   "cell_type": "code",
   "execution_count": null,
   "metadata": {},
   "outputs": [],
   "source": [
    "pip install yfinance --upgrade --no-cache-dir"
   ]
  },
  {
   "cell_type": "code",
   "execution_count": null,
   "metadata": {},
   "outputs": [],
   "source": [
    "list = ['CBA.AX','ABC.AX','NAB.AX', 'WBC.AX']\n",
    "\n",
    "for each in list:\n",
    "    try:\n",
    "        data = yf.download(  # or pdr.get_data_yahoo(...\n",
    "                # tickers list or string as well\n",
    "                tickers = each,\n",
    "\n",
    "                # use \"period\" instead of start/end\n",
    "                # valid periods: 1d,5d,1mo,3mo,6mo,1y,2y,5y,10y,ytd,max\n",
    "                # (optional, default is '1mo')\n",
    "                period = \"ytd\",\n",
    "\n",
    "                # fetch data by interval (including intraday if period < 60 days)\n",
    "                # valid intervals: 1m,2m,5m,15m,30m,60m,90m,1h,1d,5d,1wk,1mo,3mo\n",
    "                # (optional, default is '1d')\n",
    "                interval = \"1d\",\n",
    "\n",
    "                # group by ticker (to access via data['SPY'])\n",
    "                # (optional, default is 'column')\n",
    "                group_by = 'ticker',\n",
    "\n",
    "                # adjust all OHLC automatically\n",
    "                # (optional, default is False)\n",
    "                auto_adjust = True,\n",
    "\n",
    "                # download pre/post regular market hours data\n",
    "                # (optional, default is False)\n",
    "                prepost = True,\n",
    "\n",
    "                # use threads for mass downloading? (True/False/Integer)\n",
    "                # (optional, default is True)\n",
    "                threads = True,\n",
    "\n",
    "                # proxy URL scheme use use when downloading?\n",
    "                # (optional, default is None)\n",
    "                proxy = None\n",
    "            )\n",
    "        print(data)\n",
    "    except:\n",
    "        True"
   ]
  },
  {
   "cell_type": "code",
   "execution_count": null,
   "metadata": {},
   "outputs": [],
   "source": [
    "while '' in tickers['imported'].tolist():\n",
    "    if round(random()) == 1:\n",
    "        ran = round(random()*200)\n",
    "        try:\n",
    "            print(yf.Ticker(tickers['Code'].loc[ran]).info)\n",
    "            tickers['imported'].loc[ran] = 1"
   ]
  },
  {
   "cell_type": "code",
   "execution_count": null,
   "metadata": {},
   "outputs": [],
   "source": [
    "round(random())"
   ]
  },
  {
   "cell_type": "code",
   "execution_count": null,
   "metadata": {},
   "outputs": [],
   "source": [
    "tickers['imported'] = \"\"\n",
    "\n",
    "for each in list:\n",
    "    try:\n",
    "        print(each + 2)"
   ]
  },
  {
   "cell_type": "code",
   "execution_count": null,
   "metadata": {},
   "outputs": [],
   "source": [
    "print(tickers['imported'].tolist())"
   ]
  },
  {
   "cell_type": "code",
   "execution_count": null,
   "metadata": {},
   "outputs": [],
   "source": [
    "listers = ['ABP']\n",
    "for each in listers:\n",
    "    AXJO = yf.Ticker(each + \".AX\")\n",
    "    text = AXJO.info\n",
    "    sleep(random()*10)\n",
    "    print(text)"
   ]
  },
  {
   "cell_type": "code",
   "execution_count": null,
   "metadata": {},
   "outputs": [],
   "source": [
    "pip install yfinance"
   ]
  },
  {
   "cell_type": "code",
   "execution_count": null,
   "metadata": {},
   "outputs": [],
   "source": [
    "pip install googlefinance"
   ]
  },
  {
   "cell_type": "code",
   "execution_count": null,
   "metadata": {},
   "outputs": [],
   "source": [
    "pip install json"
   ]
  },
  {
   "cell_type": "code",
   "execution_count": null,
   "metadata": {},
   "outputs": [],
   "source": [
    "import yfinance as yf\n",
    "\n",
    "tickers =[\"ABP.AX\",\"ABC.AX\",\"WBC.AX\",\"CBA.AX\",\"NAB.AX\"]\n",
    "\n",
    "while len(tickers) != 0:\n",
    "    for i in range(0,len(tickers)):\n",
    "        try:\n",
    "            msft = yf.Ticker(tickers[i])\n",
    "\n",
    "            # get stock info\n",
    "            print(msft.info['zip'])\n",
    "            print(tickers[i])\n",
    "            tickers.pop(i)\n",
    "        except:\n",
    "            True"
   ]
  },
  {
   "cell_type": "code",
   "execution_count": null,
   "metadata": {},
   "outputs": [],
   "source": [
    "print(tickers)"
   ]
  },
  {
   "cell_type": "code",
   "execution_count": null,
   "metadata": {},
   "outputs": [],
   "source": [
    "data = yf.download(\"^VIX BTC-USD GC=F\")\n",
    "print(data)\n",
    "\n",
    "data.to_excel(\"ayeeee.xlsx\")"
   ]
  },
  {
   "cell_type": "code",
   "execution_count": null,
   "metadata": {},
   "outputs": [],
   "source": [
    "list = [1,2.2,3,4]\n",
    "lista = []\n",
    "for i in range(0,len(list)):\n",
    "    list.remove(list[i])\n",
    "print(lista)"
   ]
  },
  {
   "cell_type": "code",
   "execution_count": null,
   "metadata": {},
   "outputs": [],
   "source": [
    "print(type(3.4) == int)"
   ]
  },
  {
   "cell_type": "code",
   "execution_count": null,
   "metadata": {},
   "outputs": [],
   "source": [
    "for i in range(0,10,-1):\n",
    "    print(i)"
   ]
  },
  {
   "cell_type": "code",
   "execution_count": null,
   "metadata": {},
   "outputs": [],
   "source": [
    "import googlefinance"
   ]
  },
  {
   "cell_type": "code",
   "execution_count": null,
   "metadata": {},
   "outputs": [],
   "source": [
    "help(googlefinance)"
   ]
  },
  {
   "cell_type": "code",
   "execution_count": null,
   "metadata": {},
   "outputs": [],
   "source": [
    "pip install yahoo-finance"
   ]
  },
  {
   "cell_type": "code",
   "execution_count": null,
   "metadata": {},
   "outputs": [],
   "source": [
    "import yfinance"
   ]
  },
  {
   "cell_type": "code",
   "execution_count": null,
   "metadata": {},
   "outputs": [],
   "source": [
    "help(yfinance)"
   ]
  },
  {
   "cell_type": "code",
   "execution_count": null,
   "metadata": {},
   "outputs": [],
   "source": [
    "## Import the yfinance API\n",
    "\n",
    "import yfinance as yf\n",
    "import pandas as pd\n",
    "import time\n",
    "from random import random\n",
    "tickers = pd.read_excel(\"ASX200 Tickers 2020 copy.xlsx\")\n",
    "\n",
    "all_tickers = tickers['Code'].tolist()\n",
    "\n",
    "for i in range(0,len(all_tickers)):\n",
    "    a = yf.Ticker(all_tickers[i] + '.AX')\n",
    "    b = a.get_info()\n",
    "    for item in b:\n",
    "        try:\n",
    "            tickers.at[i,item] = b[item]\n",
    "        except:\n",
    "            True\n",
    "    time.sleep(2)\n",
    "tickers.to_excel('Final Enhanced ASX200 List Enhanced.xlsx')\n",
    "        \n",
    "print(\"File exported and enriched!\")"
   ]
  },
  {
   "cell_type": "code",
   "execution_count": null,
   "metadata": {},
   "outputs": [],
   "source": [
    "## Import the yfinance API\n",
    "\n",
    "import yfinance as yf\n",
    "import pandas as pd\n",
    "import time\n",
    "from random import random\n",
    "tickers = pd.read_excel(\"Final Enhanced ASX200 Changes List.xlsx\")\n",
    "\n",
    "all_tickers = tickers['Code'].tolist()\n",
    "\n",
    "for i in range(0,len(all_tickers)):\n",
    "    if tickers.at[i,'logo_url'] == \"\":\n",
    "        a = yf.Ticker(all_tickers[i] + '.AX')\n",
    "        b = a.get_info()\n",
    "        for item in b:\n",
    "            try:\n",
    "                tickers.at[i,item] = b[item]\n",
    "            except:\n",
    "                True\n",
    "        time.sleep(2)\n",
    "        tickers.to_excel('Final Enhanced ASX200 Changes List.xlsx')\n",
    "        \n",
    "print(\"File exported and enriched!\")"
   ]
  },
  {
   "cell_type": "code",
   "execution_count": null,
   "metadata": {},
   "outputs": [],
   "source": [
    "## Import the yfinance API\n",
    "\n",
    "import yfinance as yf\n",
    "import pandas as pd\n",
    "import time\n",
    "from random import random\n",
    "tickers = pd.read_excel(\"S&P Tickers 2020.xlsx\")\n",
    "\n",
    "all_tickers = tickers['Code'].tolist()\n",
    "\n",
    "for i in range(0,len(all_tickers)):\n",
    "    try:\n",
    "        a = yf.Ticker(all_tickers[i])\n",
    "        b = a.get_info()\n",
    "        for item in b:\n",
    "            try:\n",
    "                tickers.at[i,item] = b[item]\n",
    "            except:\n",
    "                True\n",
    "    except:\n",
    "        True\n",
    "    tickers.to_excel('[Enhanced] S&P500 Tickers 2020.xlsx')\n",
    "\n",
    "        \n",
    "print(\"File exported and enriched!\")"
   ]
  },
  {
   "cell_type": "code",
   "execution_count": null,
   "metadata": {},
   "outputs": [],
   "source": [
    "print(tickers)"
   ]
  },
  {
   "cell_type": "code",
   "execution_count": null,
   "metadata": {},
   "outputs": [],
   "source": [
    "c = a.get_info()\n",
    "\n",
    "for each in c:\n",
    "    print(c[each])"
   ]
  },
  {
   "cell_type": "code",
   "execution_count": null,
   "metadata": {},
   "outputs": [],
   "source": [
    "tickers.to_excel('lmao.xlsx')"
   ]
  },
  {
   "cell_type": "code",
   "execution_count": null,
   "metadata": {},
   "outputs": [],
   "source": [
    "import time"
   ]
  },
  {
   "cell_type": "code",
   "execution_count": null,
   "metadata": {},
   "outputs": [],
   "source": [
    "for each in [1,2,3]:\n",
    "    print(each)\n",
    "    time.sleep(2)"
   ]
  },
  {
   "cell_type": "code",
   "execution_count": null,
   "metadata": {},
   "outputs": [],
   "source": [
    "import yfinance as yf\n",
    "import pandas as pd\n",
    "import time\n",
    "from random import random\n",
    "tickers = pd.read_excel(\"S&P Tickers 2020.xlsx\")"
   ]
  },
  {
   "cell_type": "code",
   "execution_count": null,
   "metadata": {},
   "outputs": [],
   "source": [
    "## Import the yfinance API\n",
    "\n",
    "import yfinance as yf\n",
    "import pandas as pd\n",
    "import time\n",
    "from random import random\n",
    "tickers = pd.read_excel(\"[Enhanced] S&P500 Tickers 2020.xlsx\")\n",
    "\n",
    "all_tickers = tickers['Code'].tolist()\n",
    "\n",
    "for i in range(0,len(all_tickers)):\n",
    "    try:\n",
    "        a = yf.Ticker(all_tickers[i])\n",
    "        b = a.get_info()\n",
    "        for item in b:\n",
    "            try:\n",
    "                tickers.at[i,item] = b[item]\n",
    "            except:\n",
    "                True\n",
    "    except:\n",
    "        True\n",
    "    tickers.to_excel('[Enhanced] S&P500 Tickers 2020.xlsx')\n",
    "\n",
    "        \n",
    "print(\"File exported and enriched!\")"
   ]
  },
  {
   "cell_type": "code",
   "execution_count": null,
   "metadata": {},
   "outputs": [],
   "source": [
    "data = yf.download(  # or pdr.get_data_yahoo(...\n",
    "        # tickers list or string as well\n",
    "        tickers = \"^AXJO ^GSPC BTC-USD ^VIX GC=F GOLD CBA.AX NAB.AX WBC.AX ANZ.AX\",\n",
    "\n",
    "        # use \"period\" instead of start/end\n",
    "        # valid periods: 1d,5d,1mo,3mo,6mo,1y,2y,5y,10y,ytd,max\n",
    "        # (optional, default is '1mo')\n",
    "        period = \"max\",\n",
    "\n",
    "        # fetch data by interval (including intraday if period < 60 days)\n",
    "        # valid intervals: 1m,2m,5m,15m,30m,60m,90m,1h,1d,5d,1wk,1mo,3mo\n",
    "        # (optional, default is '1d')\n",
    "        interval = \"1d\",\n",
    "\n",
    "        # group by ticker (to access via data['SPY'])\n",
    "        # (optional, default is 'column')\n",
    "        group_by = 'ticker'\n",
    "    )"
   ]
  },
  {
   "cell_type": "code",
   "execution_count": 29,
   "metadata": {},
   "outputs": [
    {
     "name": "stdout",
     "output_type": "stream",
     "text": [
      "[*********************100%***********************]  1 of 1 completed\n",
      "[*********************100%***********************]  1 of 1 completed\n",
      "[*********************100%***********************]  1 of 1 completed\n",
      "[*********************100%***********************]  1 of 1 completed\n",
      "[*********************100%***********************]  1 of 1 completed\n",
      "[*********************100%***********************]  1 of 1 completed\n",
      "[*********************100%***********************]  1 of 1 completed\n",
      "[*********************100%***********************]  1 of 1 completed\n",
      "[*********************100%***********************]  1 of 1 completed\n",
      "[*********************100%***********************]  1 of 1 completed\n"
     ]
    }
   ],
   "source": [
    "import yfinance as yf\n",
    "import pandas as pd\n",
    "import time\n",
    "from random import random\n",
    "\n",
    "stocks_to_pull = ['^AXJO','^GSPC','BTC-USD','^VIX', 'GC=F', 'GOLD', 'CBA.AX', 'NAB.AX','WBC.AX','ANZ.AX']\n",
    "\n",
    "total_data = pd.DataFrame()\n",
    "\n",
    "for each in stocks_to_pull:\n",
    "    data1 = yf.download(tickers = each, period = \"max\", interval = \"1wk\",group_by = 'column')\n",
    "    data1['Code'] = each\n",
    "    total_data = pd.concat([total_data,data1])"
   ]
  },
  {
   "cell_type": "code",
   "execution_count": 30,
   "metadata": {},
   "outputs": [],
   "source": [
    "total_data.to_excel(\"TimeSeries Data Weekly.xlsx\")"
   ]
  },
  {
   "cell_type": "code",
   "execution_count": 27,
   "metadata": {},
   "outputs": [
    {
     "name": "stdout",
     "output_type": "stream",
     "text": [
      "abcede\n"
     ]
    }
   ],
   "source": [
    "print(\"abc\" + 'ede')"
   ]
  },
  {
   "cell_type": "code",
   "execution_count": 31,
   "metadata": {},
   "outputs": [
    {
     "name": "stdout",
     "output_type": "stream",
     "text": [
      "                   Open         High          Low        Close    Adj Close  \\\n",
      "Date                                                                          \n",
      "1992-11-23  1455.000000  1467.900024  1455.000000  1458.900024  1458.900024   \n",
      "1992-11-30  1456.400024  1456.400024  1442.099976  1443.199951  1443.199951   \n",
      "1992-12-07  1454.300049  1515.099976  1454.300049  1513.300049  1513.300049   \n",
      "1992-12-14  1525.900024  1529.400024  1508.500000  1529.400024  1529.400024   \n",
      "1992-12-21  1551.699951  1551.699951  1536.400024  1547.599976  1547.599976   \n",
      "...                 ...          ...          ...          ...          ...   \n",
      "2020-04-06    16.110001    17.240000    15.380000    16.540001    16.540001   \n",
      "2020-04-13    16.540001    17.030001    16.080000    16.559999    16.559999   \n",
      "2020-04-20    16.559999    16.719999    15.460000    16.020000    16.020000   \n",
      "2020-04-27    15.680000    16.905001    15.350000    16.900000    16.900000   \n",
      "2020-05-01    16.490000    16.510000    16.340000    16.340000    16.340000   \n",
      "\n",
      "                Volume    Code  \n",
      "Date                            \n",
      "1992-11-23         0.0   ^AXJO  \n",
      "1992-11-30         0.0   ^AXJO  \n",
      "1992-12-07         0.0   ^AXJO  \n",
      "1992-12-14         0.0   ^AXJO  \n",
      "1992-12-21         0.0   ^AXJO  \n",
      "...                ...     ...  \n",
      "2020-04-06  49960673.0  ANZ.AX  \n",
      "2020-04-13  35800106.0  ANZ.AX  \n",
      "2020-04-20  40678650.0  ANZ.AX  \n",
      "2020-04-27  57007032.0  ANZ.AX  \n",
      "2020-05-01    998292.0  ANZ.AX  \n",
      "\n",
      "[16343 rows x 7 columns]\n"
     ]
    }
   ],
   "source": [
    "print(total_data)"
   ]
  },
  {
   "cell_type": "code",
   "execution_count": 33,
   "metadata": {},
   "outputs": [
    {
     "name": "stdout",
     "output_type": "stream",
     "text": [
      "Collecting psaw\n",
      "  Downloading psaw-0.0.12-py3-none-any.whl (15 kB)\n",
      "Requirement already satisfied: Click in /Users/null/opt/anaconda3/lib/python3.7/site-packages (from psaw) (7.0)\n",
      "Requirement already satisfied: requests in /Users/null/opt/anaconda3/lib/python3.7/site-packages (from psaw) (2.22.0)\n",
      "Requirement already satisfied: chardet<3.1.0,>=3.0.2 in /Users/null/opt/anaconda3/lib/python3.7/site-packages (from requests->psaw) (3.0.4)\n",
      "Requirement already satisfied: urllib3!=1.25.0,!=1.25.1,<1.26,>=1.21.1 in /Users/null/opt/anaconda3/lib/python3.7/site-packages (from requests->psaw) (1.25.8)\n",
      "Requirement already satisfied: certifi>=2017.4.17 in /Users/null/opt/anaconda3/lib/python3.7/site-packages (from requests->psaw) (2019.11.28)\n",
      "Requirement already satisfied: idna<2.9,>=2.5 in /Users/null/opt/anaconda3/lib/python3.7/site-packages (from requests->psaw) (2.8)\n",
      "Installing collected packages: psaw\n",
      "Successfully installed psaw-0.0.12\n",
      "Note: you may need to restart the kernel to use updated packages.\n"
     ]
    }
   ],
   "source": [
    "pip install psaw"
   ]
  },
  {
   "cell_type": "code",
   "execution_count": 35,
   "metadata": {},
   "outputs": [
    {
     "name": "stdout",
     "output_type": "stream",
     "text": [
      "Help on package psaw:\n",
      "\n",
      "NAME\n",
      "    psaw - Pushshift.io API Wrapper (for reddit.com public comment/submission search)\n",
      "\n",
      "DESCRIPTION\n",
      "    https://github.com/dmarx/psaw\n",
      "\n",
      "PACKAGE CONTENTS\n",
      "    PushshiftAPI\n",
      "    psaw\n",
      "    utilities\n",
      "    writers\n",
      "\n",
      "VERSION\n",
      "    0.0.12\n",
      "\n",
      "FILE\n",
      "    /Users/null/opt/anaconda3/lib/python3.7/site-packages/psaw/__init__.py\n",
      "\n",
      "\n"
     ]
    }
   ],
   "source": [
    "import psaw\n",
    "\n",
    "help(psaw)"
   ]
  },
  {
   "cell_type": "code",
   "execution_count": 36,
   "metadata": {},
   "outputs": [],
   "source": [
    "from psaw import PushshiftAPI\n",
    "\n",
    "api = PushshiftAPI()"
   ]
  },
  {
   "cell_type": "code",
   "execution_count": null,
   "metadata": {},
   "outputs": [],
   "source": []
  }
 ],
 "metadata": {
  "kernelspec": {
   "display_name": "Python 3",
   "language": "python",
   "name": "python3"
  },
  "language_info": {
   "codemirror_mode": {
    "name": "ipython",
    "version": 3
   },
   "file_extension": ".py",
   "mimetype": "text/x-python",
   "name": "python",
   "nbconvert_exporter": "python",
   "pygments_lexer": "ipython3",
   "version": "3.7.6"
  }
 },
 "nbformat": 4,
 "nbformat_minor": 4
}
