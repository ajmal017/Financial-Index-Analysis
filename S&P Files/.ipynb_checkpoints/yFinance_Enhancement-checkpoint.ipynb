{
 "cells": [
  {
   "cell_type": "code",
   "execution_count": null,
   "metadata": {
    "scrolled": false
   },
   "outputs": [],
   "source": [
    "## Import the yfinance API\n",
    "\n",
    "import yfinance as yf\n",
    "import pandas as pd\n",
    "import datetime as time\n",
    "from random import random\n",
    "tickers = pd.read_excel(\"ASX200 Tickers 2020 copy.xlsx\")\n",
    "\n",
    "## Add additional columns from the yfinance API\n",
    "\n",
    "tickers['zip'] = \"\"\n",
    "tickers['sector'] = \"\"\n",
    "tickers['address 2'] = \"\"\n",
    "tickers['shortName'] = \"\"\n",
    "tickers['longName'] = \"\"\n",
    "tickers['exchange'] = \"\"\n",
    "tickers['enterpriseToEbitda'] = \"\"\n",
    "tickers['morningStarRiskRating'] = \"\"\n",
    "tickers['priceToBook'] = \"\"\n",
    "tickers['morningStarOverallRating'] = \"\"\n",
    "tickers['fiveYearAverageReturn'] = \"\"\n",
    "tickers['imported'] = \"\"\n",
    "\n",
    "accepted_tickers = []\n",
    "rejected_tickers = []\n",
    "\n",
    "all_tickers = tickers['Code'].tolist()\n",
    "\n",
    "while len(all_tickers) != 0:\n",
    "    for i in range(0,len(tickers)):\n",
    "        ran = round(random()*len(tickers['Code'].tolist()))\n",
    "        if tickers['imported'].loc[ran] != \"Done\":\n",
    "            try:\n",
    "                random_stock = yf.Ticker(all_tickers[i] + '.AX')\n",
    "                # get stock info\n",
    "                ticker_info = random_stock.get_info()\n",
    "                tickers['zip'].loc[ran] = ticker_info['zip']\n",
    "                tickers['sector'].loc[ran] = ticker_info['sector']\n",
    "                tickers['address 2'].loc[ran] = ticker_info['address 2']\n",
    "                tickers['shortName'].loc[ran] = ticker_info['shortName']\n",
    "                tickers['longName'].loc[ran] = ticker_info['longName']\n",
    "                tickers['exchange'].loc[ran] = ticker_info['exchange']\n",
    "                tickers['enterpriseToEbitda'].loc[ran] = ticker_info['enterpriseToEbitda']\n",
    "                tickers['morningStarRiskRating'].loc[ran] = ticker_info['morningStarRiskRating']\n",
    "                tickers['priceToBook'].loc[ran] = ticker_info['priceToBook']\n",
    "                tickers['morningStarOverallRating'].loc[ran] = ticker_info['morningStarOverallRating']\n",
    "                tickers['fiveYearAverageReturn'].loc[ran] = ticker_info['fiveYearAverageReturn']\n",
    "                tickers['imported'].loc[ran] = \"Done\"\n",
    "                print(\"Passed\")\n",
    "            except:\n",
    "                print(\"Failed\")\n",
    "\n",
    "# get historical market data\n",
    "#AXJO_hist = AXJO.history(period=\"3y\",interval=\"1d\")\n",
    "#DJI_hist = DJI.history(period=\"20y\",interval=\"1d\")\n",
    "#SPY_hist = SPY.history(period=\"20y\",interval=\"1d\")\n",
    "#BBOZ_hist = BBOZ.history(period=\"3y\",interval=\"1d\")\n",
    "\n",
    "#print(BBOZ_hist)\n",
    "## zip, sector, address1,shortName,longName,exchange,enterpriseToEbitda, morningStarRiskRating,priceToBook, morningStarOverallRating,fiveYearAverageReturn"
   ]
  },
  {
   "cell_type": "code",
   "execution_count": null,
   "metadata": {},
   "outputs": [],
   "source": [
    "## Import the yfinance API\n",
    "\n",
    "import yfinance as yf\n",
    "import pandas as pd\n",
    "import datetime as time\n",
    "from random import random\n",
    "tickers = pd.read_excel(\"ASX200 Tickers 2020 copy.xlsx\")\n",
    "\n",
    "## Add additional columns from the yfinance API\n",
    "\n",
    "tickers['zip'] = \"\"\n",
    "tickers['sector'] = \"\"\n",
    "tickers['address 2'] = \"\"\n",
    "tickers['shortName'] = \"\"\n",
    "tickers['longName'] = \"\"\n",
    "tickers['exchange'] = \"\"\n",
    "tickers['enterpriseToEbitda'] = \"\"\n",
    "tickers['morningStarRiskRating'] = \"\"\n",
    "tickers['priceToBook'] = \"\"\n",
    "tickers['morningStarOverallRating'] = \"\"\n",
    "tickers['fiveYearAverageReturn'] = \"\"\n",
    "tickers['imported'] = \"\"\n",
    "\n",
    "accepted_tickers = []\n",
    "rejected_tickers = []\n",
    "\n",
    "all_tickers = tickers['Code'].tolist()\n",
    "print(all_tickers)\n",
    "\n"
   ]
  },
  {
   "cell_type": "code",
   "execution_count": null,
   "metadata": {},
   "outputs": [],
   "source": [
    "tickers[['asd','asd1']] = 0\n",
    "print(tickers)"
   ]
  },
  {
   "cell_type": "code",
   "execution_count": null,
   "metadata": {},
   "outputs": [],
   "source": [
    "from random import random\n",
    "\n",
    "listers = ['CBA','ANZ','NAB','ABP','APT']\n",
    "for each in listers:\n",
    "    AXJO = yf.Ticker(each + \".AX\")\n",
    "    text = AXJO.info\n",
    "    sleep(random()*10)\n",
    "    print(text)\n",
    "\n"
   ]
  },
  {
   "cell_type": "code",
   "execution_count": null,
   "metadata": {},
   "outputs": [],
   "source": [
    "import datetime as time"
   ]
  },
  {
   "cell_type": "code",
   "execution_count": null,
   "metadata": {},
   "outputs": [],
   "source": [
    "listers = ['ABP']#, 'ABC', 'APT', 'AGL', 'ALQ', 'ALU', 'AWC', 'AMC', 'AMP', 'ANN', 'APE', 'APA', 'APX', 'ARB', 'ALL', 'ASX', 'ALX', 'AZJ']\n",
    "for each in listers:\n",
    "    AXJO = yf.Ticker('ABP' + '.AX')\n",
    "    print(AXJO.info)\n",
    "\n",
    "    "
   ]
  },
  {
   "cell_type": "code",
   "execution_count": null,
   "metadata": {},
   "outputs": [],
   "source": [
    "ticks = yf.Ticker(\"CBA\" + \".AX\")\n",
    "info = ticks.info\n",
    "for each in info:\n",
    "    print(info[each])"
   ]
  },
  {
   "cell_type": "code",
   "execution_count": null,
   "metadata": {},
   "outputs": [],
   "source": [
    "for tickers['Code'].tolist())"
   ]
  },
  {
   "cell_type": "code",
   "execution_count": null,
   "metadata": {},
   "outputs": [],
   "source": [
    "pip install -e git+git://github.com/vonHacht/yfinance.git@master#egg=yfinance"
   ]
  },
  {
   "cell_type": "code",
   "execution_count": null,
   "metadata": {},
   "outputs": [],
   "source": [
    "from random import random\n",
    "\n",
    "listers = ['CBA','ANZ','NAB','ABP','APT']\n",
    "for each in listers:\n",
    "    AXJO = yf.Ticker(each + \".AX\")\n",
    "    text = AXJO.info\n",
    "    print(text)"
   ]
  },
  {
   "cell_type": "code",
   "execution_count": null,
   "metadata": {},
   "outputs": [],
   "source": [
    "AXJO = yf.Ticker(\"CBA\" + \".AX\")\n",
    "AXJO.info['zip']\n"
   ]
  },
  {
   "cell_type": "code",
   "execution_count": null,
   "metadata": {},
   "outputs": [],
   "source": [
    "while '' in tickers['imported'].tolist():\n",
    "    for i in range(0,len(tickers['imported'].tolist())):\n",
    "        if tickers['imported'].loc[i,]:\n",
    "            tickers['imported'][i,] = 4"
   ]
  },
  {
   "cell_type": "code",
   "execution_count": null,
   "metadata": {},
   "outputs": [],
   "source": [
    "i = 5\n",
    "\n",
    "tickers['imported'][i,] = 4\n",
    "\n",
    "print(tickers['imported'].loc[i,])"
   ]
  },
  {
   "cell_type": "code",
   "execution_count": null,
   "metadata": {},
   "outputs": [],
   "source": [
    "pip install yfinance --upgrade --no-cache-dir"
   ]
  },
  {
   "cell_type": "code",
   "execution_count": null,
   "metadata": {},
   "outputs": [],
   "source": [
    "list = ['CBA.AX','ABC.AX','NAB.AX', 'WBC.AX']\n",
    "\n",
    "for each in list:\n",
    "    try:\n",
    "        data = yf.download(  # or pdr.get_data_yahoo(...\n",
    "                # tickers list or string as well\n",
    "                tickers = each,\n",
    "\n",
    "                # use \"period\" instead of start/end\n",
    "                # valid periods: 1d,5d,1mo,3mo,6mo,1y,2y,5y,10y,ytd,max\n",
    "                # (optional, default is '1mo')\n",
    "                period = \"ytd\",\n",
    "\n",
    "                # fetch data by interval (including intraday if period < 60 days)\n",
    "                # valid intervals: 1m,2m,5m,15m,30m,60m,90m,1h,1d,5d,1wk,1mo,3mo\n",
    "                # (optional, default is '1d')\n",
    "                interval = \"1d\",\n",
    "\n",
    "                # group by ticker (to access via data['SPY'])\n",
    "                # (optional, default is 'column')\n",
    "                group_by = 'ticker',\n",
    "\n",
    "                # adjust all OHLC automatically\n",
    "                # (optional, default is False)\n",
    "                auto_adjust = True,\n",
    "\n",
    "                # download pre/post regular market hours data\n",
    "                # (optional, default is False)\n",
    "                prepost = True,\n",
    "\n",
    "                # use threads for mass downloading? (True/False/Integer)\n",
    "                # (optional, default is True)\n",
    "                threads = True,\n",
    "\n",
    "                # proxy URL scheme use use when downloading?\n",
    "                # (optional, default is None)\n",
    "                proxy = None\n",
    "            )\n",
    "        print(data)\n",
    "    except:\n",
    "        True"
   ]
  },
  {
   "cell_type": "code",
   "execution_count": null,
   "metadata": {},
   "outputs": [],
   "source": [
    "while '' in tickers['imported'].tolist():\n",
    "    if round(random()) == 1:\n",
    "        ran = round(random()*200)\n",
    "        try:\n",
    "            print(yf.Ticker(tickers['Code'].loc[ran]).info)\n",
    "            tickers['imported'].loc[ran] = 1"
   ]
  },
  {
   "cell_type": "code",
   "execution_count": null,
   "metadata": {},
   "outputs": [],
   "source": [
    "round(random())"
   ]
  },
  {
   "cell_type": "code",
   "execution_count": null,
   "metadata": {},
   "outputs": [],
   "source": [
    "tickers['imported'] = \"\"\n",
    "\n",
    "for each in list:\n",
    "    try:\n",
    "        print(each + 2)"
   ]
  },
  {
   "cell_type": "code",
   "execution_count": null,
   "metadata": {},
   "outputs": [],
   "source": [
    "print(tickers['imported'].tolist())"
   ]
  },
  {
   "cell_type": "code",
   "execution_count": null,
   "metadata": {},
   "outputs": [],
   "source": [
    "listers = ['ABP']\n",
    "for each in listers:\n",
    "    AXJO = yf.Ticker(each + \".AX\")\n",
    "    text = AXJO.info\n",
    "    sleep(random()*10)\n",
    "    print(text)"
   ]
  },
  {
   "cell_type": "code",
   "execution_count": null,
   "metadata": {},
   "outputs": [],
   "source": [
    "pip install yfinance"
   ]
  },
  {
   "cell_type": "code",
   "execution_count": null,
   "metadata": {},
   "outputs": [],
   "source": [
    "pip install googlefinance"
   ]
  },
  {
   "cell_type": "code",
   "execution_count": null,
   "metadata": {},
   "outputs": [],
   "source": [
    "pip install json"
   ]
  },
  {
   "cell_type": "code",
   "execution_count": null,
   "metadata": {},
   "outputs": [],
   "source": [
    "import yfinance as yf\n",
    "\n",
    "tickers =[\"ABP.AX\",\"ABC.AX\",\"WBC.AX\",\"CBA.AX\",\"NAB.AX\"]\n",
    "\n",
    "while len(tickers) != 0:\n",
    "    for i in range(0,len(tickers)):\n",
    "        try:\n",
    "            msft = yf.Ticker(tickers[i])\n",
    "\n",
    "            # get stock info\n",
    "            print(msft.info['zip'])\n",
    "            print(tickers[i])\n",
    "            tickers.pop(i)\n",
    "        except:\n",
    "            True"
   ]
  },
  {
   "cell_type": "code",
   "execution_count": null,
   "metadata": {},
   "outputs": [],
   "source": [
    "print(tickers)"
   ]
  },
  {
   "cell_type": "code",
   "execution_count": null,
   "metadata": {},
   "outputs": [],
   "source": [
    "data = yf.download(\"^VIX BTC-USD GC=F\")\n",
    "print(data)\n",
    "\n",
    "data.to_excel(\"ayeeee.xlsx\")"
   ]
  },
  {
   "cell_type": "code",
   "execution_count": null,
   "metadata": {},
   "outputs": [],
   "source": [
    "list = [1,2.2,3,4]\n",
    "lista = []\n",
    "for i in range(0,len(list)):\n",
    "    list.remove(list[i])\n",
    "print(lista)"
   ]
  },
  {
   "cell_type": "code",
   "execution_count": null,
   "metadata": {},
   "outputs": [],
   "source": [
    "print(type(3.4) == int)"
   ]
  },
  {
   "cell_type": "code",
   "execution_count": null,
   "metadata": {},
   "outputs": [],
   "source": [
    "for i in range(0,10,-1):\n",
    "    print(i)"
   ]
  },
  {
   "cell_type": "code",
   "execution_count": null,
   "metadata": {},
   "outputs": [],
   "source": [
    "import googlefinance"
   ]
  },
  {
   "cell_type": "code",
   "execution_count": null,
   "metadata": {},
   "outputs": [],
   "source": [
    "help(googlefinance)"
   ]
  },
  {
   "cell_type": "code",
   "execution_count": null,
   "metadata": {},
   "outputs": [],
   "source": [
    "pip install yahoo-finance"
   ]
  },
  {
   "cell_type": "code",
   "execution_count": null,
   "metadata": {},
   "outputs": [],
   "source": [
    "import yfinance"
   ]
  },
  {
   "cell_type": "code",
   "execution_count": null,
   "metadata": {},
   "outputs": [],
   "source": [
    "help(yfinance)"
   ]
  },
  {
   "cell_type": "code",
   "execution_count": null,
   "metadata": {},
   "outputs": [],
   "source": [
    "## Import the yfinance API\n",
    "\n",
    "import yfinance as yf\n",
    "import pandas as pd\n",
    "import time\n",
    "from random import random\n",
    "tickers = pd.read_excel(\"ASX200 Tickers 2020 copy.xlsx\")\n",
    "\n",
    "all_tickers = tickers['Code'].tolist()\n",
    "\n",
    "for i in range(0,len(all_tickers)):\n",
    "    a = yf.Ticker(all_tickers[i] + '.AX')\n",
    "    b = a.get_info()\n",
    "    for item in b:\n",
    "        try:\n",
    "            tickers.at[i,item] = b[item]\n",
    "        except:\n",
    "            True\n",
    "    time.sleep(2)\n",
    "tickers.to_excel('Final Enhanced ASX200 List Enhanced.xlsx')\n",
    "        \n",
    "print(\"File exported and enriched!\")"
   ]
  },
  {
   "cell_type": "code",
   "execution_count": null,
   "metadata": {},
   "outputs": [],
   "source": [
    "## Import the yfinance API\n",
    "\n",
    "import yfinance as yf\n",
    "import pandas as pd\n",
    "import time\n",
    "from random import random\n",
    "tickers = pd.read_excel(\"Final Enhanced ASX200 Changes List.xlsx\")\n",
    "\n",
    "all_tickers = tickers['Code'].tolist()\n",
    "\n",
    "for i in range(0,len(all_tickers)):\n",
    "    if tickers.at[i,'logo_url'] == \"\":\n",
    "        a = yf.Ticker(all_tickers[i] + '.AX')\n",
    "        b = a.get_info()\n",
    "        for item in b:\n",
    "            try:\n",
    "                tickers.at[i,item] = b[item]\n",
    "            except:\n",
    "                True\n",
    "        time.sleep(2)\n",
    "        tickers.to_excel('Final Enhanced ASX200 Changes List.xlsx')\n",
    "        \n",
    "print(\"File exported and enriched!\")"
   ]
  },
  {
   "cell_type": "code",
   "execution_count": 1,
   "metadata": {},
   "outputs": [
    {
     "ename": "IndexError",
     "evalue": "list index out of range",
     "output_type": "error",
     "traceback": [
      "\u001b[0;31m---------------------------------------------------------------------------\u001b[0m",
      "\u001b[0;31mIndexError\u001b[0m                                Traceback (most recent call last)",
      "\u001b[0;32m<ipython-input-1-6a0a900212e5>\u001b[0m in \u001b[0;36m<module>\u001b[0;34m\u001b[0m\n\u001b[1;32m      5\u001b[0m \u001b[0;32mimport\u001b[0m \u001b[0mtime\u001b[0m\u001b[0;34m\u001b[0m\u001b[0;34m\u001b[0m\u001b[0m\n\u001b[1;32m      6\u001b[0m \u001b[0;32mfrom\u001b[0m \u001b[0mrandom\u001b[0m \u001b[0;32mimport\u001b[0m \u001b[0mrandom\u001b[0m\u001b[0;34m\u001b[0m\u001b[0;34m\u001b[0m\u001b[0m\n\u001b[0;32m----> 7\u001b[0;31m \u001b[0mtickers\u001b[0m \u001b[0;34m=\u001b[0m \u001b[0mpd\u001b[0m\u001b[0;34m.\u001b[0m\u001b[0mread_excel\u001b[0m\u001b[0;34m(\u001b[0m\u001b[0;34m\"S&P500 Tickers 2020 copy.xlsx\"\u001b[0m\u001b[0;34m)\u001b[0m\u001b[0;34m\u001b[0m\u001b[0;34m\u001b[0m\u001b[0m\n\u001b[0m\u001b[1;32m      8\u001b[0m \u001b[0;34m\u001b[0m\u001b[0m\n\u001b[1;32m      9\u001b[0m \u001b[0mall_tickers\u001b[0m \u001b[0;34m=\u001b[0m \u001b[0mtickers\u001b[0m\u001b[0;34m[\u001b[0m\u001b[0;34m'Code'\u001b[0m\u001b[0;34m]\u001b[0m\u001b[0;34m.\u001b[0m\u001b[0mtolist\u001b[0m\u001b[0;34m(\u001b[0m\u001b[0;34m)\u001b[0m\u001b[0;34m\u001b[0m\u001b[0;34m\u001b[0m\u001b[0m\n",
      "\u001b[0;32m~/opt/anaconda3/lib/python3.7/site-packages/pandas/io/excel/_base.py\u001b[0m in \u001b[0;36mread_excel\u001b[0;34m(io, sheet_name, header, names, index_col, usecols, squeeze, dtype, engine, converters, true_values, false_values, skiprows, nrows, na_values, keep_default_na, verbose, parse_dates, date_parser, thousands, comment, skipfooter, convert_float, mangle_dupe_cols, **kwds)\u001b[0m\n\u001b[1;32m    332\u001b[0m         \u001b[0mconvert_float\u001b[0m\u001b[0;34m=\u001b[0m\u001b[0mconvert_float\u001b[0m\u001b[0;34m,\u001b[0m\u001b[0;34m\u001b[0m\u001b[0;34m\u001b[0m\u001b[0m\n\u001b[1;32m    333\u001b[0m         \u001b[0mmangle_dupe_cols\u001b[0m\u001b[0;34m=\u001b[0m\u001b[0mmangle_dupe_cols\u001b[0m\u001b[0;34m,\u001b[0m\u001b[0;34m\u001b[0m\u001b[0;34m\u001b[0m\u001b[0m\n\u001b[0;32m--> 334\u001b[0;31m         \u001b[0;34m**\u001b[0m\u001b[0mkwds\u001b[0m\u001b[0;34m,\u001b[0m\u001b[0;34m\u001b[0m\u001b[0;34m\u001b[0m\u001b[0m\n\u001b[0m\u001b[1;32m    335\u001b[0m     )\n\u001b[1;32m    336\u001b[0m \u001b[0;34m\u001b[0m\u001b[0m\n",
      "\u001b[0;32m~/opt/anaconda3/lib/python3.7/site-packages/pandas/io/excel/_base.py\u001b[0m in \u001b[0;36mparse\u001b[0;34m(self, sheet_name, header, names, index_col, usecols, squeeze, converters, true_values, false_values, skiprows, nrows, na_values, parse_dates, date_parser, thousands, comment, skipfooter, convert_float, mangle_dupe_cols, **kwds)\u001b[0m\n\u001b[1;32m    883\u001b[0m             \u001b[0mconvert_float\u001b[0m\u001b[0;34m=\u001b[0m\u001b[0mconvert_float\u001b[0m\u001b[0;34m,\u001b[0m\u001b[0;34m\u001b[0m\u001b[0;34m\u001b[0m\u001b[0m\n\u001b[1;32m    884\u001b[0m             \u001b[0mmangle_dupe_cols\u001b[0m\u001b[0;34m=\u001b[0m\u001b[0mmangle_dupe_cols\u001b[0m\u001b[0;34m,\u001b[0m\u001b[0;34m\u001b[0m\u001b[0;34m\u001b[0m\u001b[0m\n\u001b[0;32m--> 885\u001b[0;31m             \u001b[0;34m**\u001b[0m\u001b[0mkwds\u001b[0m\u001b[0;34m,\u001b[0m\u001b[0;34m\u001b[0m\u001b[0;34m\u001b[0m\u001b[0m\n\u001b[0m\u001b[1;32m    886\u001b[0m         )\n\u001b[1;32m    887\u001b[0m \u001b[0;34m\u001b[0m\u001b[0m\n",
      "\u001b[0;32m~/opt/anaconda3/lib/python3.7/site-packages/pandas/io/excel/_base.py\u001b[0m in \u001b[0;36mparse\u001b[0;34m(self, sheet_name, header, names, index_col, usecols, squeeze, dtype, true_values, false_values, skiprows, nrows, na_values, verbose, parse_dates, date_parser, thousands, comment, skipfooter, convert_float, mangle_dupe_cols, **kwds)\u001b[0m\n\u001b[1;32m    436\u001b[0m                 \u001b[0msheet\u001b[0m \u001b[0;34m=\u001b[0m \u001b[0mself\u001b[0m\u001b[0;34m.\u001b[0m\u001b[0mget_sheet_by_name\u001b[0m\u001b[0;34m(\u001b[0m\u001b[0masheetname\u001b[0m\u001b[0;34m)\u001b[0m\u001b[0;34m\u001b[0m\u001b[0;34m\u001b[0m\u001b[0m\n\u001b[1;32m    437\u001b[0m             \u001b[0;32melse\u001b[0m\u001b[0;34m:\u001b[0m  \u001b[0;31m# assume an integer if not a string\u001b[0m\u001b[0;34m\u001b[0m\u001b[0;34m\u001b[0m\u001b[0m\n\u001b[0;32m--> 438\u001b[0;31m                 \u001b[0msheet\u001b[0m \u001b[0;34m=\u001b[0m \u001b[0mself\u001b[0m\u001b[0;34m.\u001b[0m\u001b[0mget_sheet_by_index\u001b[0m\u001b[0;34m(\u001b[0m\u001b[0masheetname\u001b[0m\u001b[0;34m)\u001b[0m\u001b[0;34m\u001b[0m\u001b[0;34m\u001b[0m\u001b[0m\n\u001b[0m\u001b[1;32m    439\u001b[0m \u001b[0;34m\u001b[0m\u001b[0m\n\u001b[1;32m    440\u001b[0m             \u001b[0mdata\u001b[0m \u001b[0;34m=\u001b[0m \u001b[0mself\u001b[0m\u001b[0;34m.\u001b[0m\u001b[0mget_sheet_data\u001b[0m\u001b[0;34m(\u001b[0m\u001b[0msheet\u001b[0m\u001b[0;34m,\u001b[0m \u001b[0mconvert_float\u001b[0m\u001b[0;34m)\u001b[0m\u001b[0;34m\u001b[0m\u001b[0;34m\u001b[0m\u001b[0m\n",
      "\u001b[0;32m~/opt/anaconda3/lib/python3.7/site-packages/pandas/io/excel/_xlrd.py\u001b[0m in \u001b[0;36mget_sheet_by_index\u001b[0;34m(self, index)\u001b[0m\n\u001b[1;32m     44\u001b[0m \u001b[0;34m\u001b[0m\u001b[0m\n\u001b[1;32m     45\u001b[0m     \u001b[0;32mdef\u001b[0m \u001b[0mget_sheet_by_index\u001b[0m\u001b[0;34m(\u001b[0m\u001b[0mself\u001b[0m\u001b[0;34m,\u001b[0m \u001b[0mindex\u001b[0m\u001b[0;34m)\u001b[0m\u001b[0;34m:\u001b[0m\u001b[0;34m\u001b[0m\u001b[0;34m\u001b[0m\u001b[0m\n\u001b[0;32m---> 46\u001b[0;31m         \u001b[0;32mreturn\u001b[0m \u001b[0mself\u001b[0m\u001b[0;34m.\u001b[0m\u001b[0mbook\u001b[0m\u001b[0;34m.\u001b[0m\u001b[0msheet_by_index\u001b[0m\u001b[0;34m(\u001b[0m\u001b[0mindex\u001b[0m\u001b[0;34m)\u001b[0m\u001b[0;34m\u001b[0m\u001b[0;34m\u001b[0m\u001b[0m\n\u001b[0m\u001b[1;32m     47\u001b[0m \u001b[0;34m\u001b[0m\u001b[0m\n\u001b[1;32m     48\u001b[0m     \u001b[0;32mdef\u001b[0m \u001b[0mget_sheet_data\u001b[0m\u001b[0;34m(\u001b[0m\u001b[0mself\u001b[0m\u001b[0;34m,\u001b[0m \u001b[0msheet\u001b[0m\u001b[0;34m,\u001b[0m \u001b[0mconvert_float\u001b[0m\u001b[0;34m)\u001b[0m\u001b[0;34m:\u001b[0m\u001b[0;34m\u001b[0m\u001b[0;34m\u001b[0m\u001b[0m\n",
      "\u001b[0;32m~/opt/anaconda3/lib/python3.7/site-packages/xlrd/book.py\u001b[0m in \u001b[0;36msheet_by_index\u001b[0;34m(self, sheetx)\u001b[0m\n\u001b[1;32m    464\u001b[0m         \u001b[0;34m:\u001b[0m\u001b[0mreturns\u001b[0m\u001b[0;34m:\u001b[0m \u001b[0mA\u001b[0m \u001b[0;34m:\u001b[0m\u001b[0;32mclass\u001b[0m\u001b[0;34m:\u001b[0m\u001b[0;31m`\u001b[0m\u001b[0;34m~\u001b[0m\u001b[0mxlrd\u001b[0m\u001b[0;34m.\u001b[0m\u001b[0msheet\u001b[0m\u001b[0;34m.\u001b[0m\u001b[0mSheet\u001b[0m\u001b[0;31m`\u001b[0m\u001b[0;34m.\u001b[0m\u001b[0;34m\u001b[0m\u001b[0;34m\u001b[0m\u001b[0m\n\u001b[1;32m    465\u001b[0m         \"\"\"\n\u001b[0;32m--> 466\u001b[0;31m         \u001b[0;32mreturn\u001b[0m \u001b[0mself\u001b[0m\u001b[0;34m.\u001b[0m\u001b[0m_sheet_list\u001b[0m\u001b[0;34m[\u001b[0m\u001b[0msheetx\u001b[0m\u001b[0;34m]\u001b[0m \u001b[0;32mor\u001b[0m \u001b[0mself\u001b[0m\u001b[0;34m.\u001b[0m\u001b[0mget_sheet\u001b[0m\u001b[0;34m(\u001b[0m\u001b[0msheetx\u001b[0m\u001b[0;34m)\u001b[0m\u001b[0;34m\u001b[0m\u001b[0;34m\u001b[0m\u001b[0m\n\u001b[0m\u001b[1;32m    467\u001b[0m \u001b[0;34m\u001b[0m\u001b[0m\n\u001b[1;32m    468\u001b[0m     \u001b[0;32mdef\u001b[0m \u001b[0msheet_by_name\u001b[0m\u001b[0;34m(\u001b[0m\u001b[0mself\u001b[0m\u001b[0;34m,\u001b[0m \u001b[0msheet_name\u001b[0m\u001b[0;34m)\u001b[0m\u001b[0;34m:\u001b[0m\u001b[0;34m\u001b[0m\u001b[0;34m\u001b[0m\u001b[0m\n",
      "\u001b[0;31mIndexError\u001b[0m: list index out of range"
     ]
    }
   ],
   "source": [
    "## Import the yfinance API\n",
    "\n",
    "import yfinance as yf\n",
    "import pandas as pd\n",
    "import time\n",
    "from random import random\n",
    "tickers = pd.read_excel(\"S&P500 Tickers 2020 copy.xlsx\")\n",
    "\n",
    "all_tickers = tickers['Code'].tolist()\n",
    "\n",
    "for i in range(0,len(all_tickers)):\n",
    "    try:\n",
    "        a = yf.Ticker(all_tickers[i])\n",
    "        b = a.get_info()\n",
    "        for item in b:\n",
    "            try:\n",
    "                tickers.at[i,item] = b[item]\n",
    "            except:\n",
    "                True\n",
    "    except:\n",
    "        True\n",
    "    tickers.to_excel('[Enhanced] S&P500 Tickers 2020.xlsx')\n",
    "\n",
    "        \n",
    "print(\"File exported and enriched!\")"
   ]
  },
  {
   "cell_type": "code",
   "execution_count": null,
   "metadata": {},
   "outputs": [],
   "source": [
    "print(tickers)"
   ]
  },
  {
   "cell_type": "code",
   "execution_count": null,
   "metadata": {},
   "outputs": [],
   "source": [
    "c = a.get_info()\n",
    "\n",
    "for each in c:\n",
    "    print(c[each])"
   ]
  },
  {
   "cell_type": "code",
   "execution_count": null,
   "metadata": {},
   "outputs": [],
   "source": [
    "tickers.to_excel('lmao.xlsx')"
   ]
  },
  {
   "cell_type": "code",
   "execution_count": null,
   "metadata": {},
   "outputs": [],
   "source": [
    "import time"
   ]
  },
  {
   "cell_type": "code",
   "execution_count": null,
   "metadata": {},
   "outputs": [],
   "source": [
    "for each in [1,2,3]:\n",
    "    print(each)\n",
    "    time.sleep(2)"
   ]
  },
  {
   "cell_type": "code",
   "execution_count": null,
   "metadata": {},
   "outputs": [],
   "source": []
  }
 ],
 "metadata": {
  "kernelspec": {
   "display_name": "Python 3",
   "language": "python",
   "name": "python3"
  },
  "language_info": {
   "codemirror_mode": {
    "name": "ipython",
    "version": 3
   },
   "file_extension": ".py",
   "mimetype": "text/x-python",
   "name": "python",
   "nbconvert_exporter": "python",
   "pygments_lexer": "ipython3",
   "version": "3.7.6"
  }
 },
 "nbformat": 4,
 "nbformat_minor": 4
}
